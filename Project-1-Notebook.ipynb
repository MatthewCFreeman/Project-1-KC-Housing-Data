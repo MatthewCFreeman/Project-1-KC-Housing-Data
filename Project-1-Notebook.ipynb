{
 "cells": [
  {
   "cell_type": "markdown",
   "metadata": {},
   "source": [
    "# Flatiron Data Science Project 1: The King County Housing Data\n",
    "### Matthew Freeman -- Work Beginning on 3rd March 2019\n",
    "\n",
    "##### This investigation will roughly follow the OSEMN data science process, with some iteration and backward steps being shown where investigation suggested so. \n",
    "\n",
    "##### Significant insights gathered at the end of this documentation will be included in a powerpoint elsewhere in this repository."
   ]
  },
  {
   "cell_type": "markdown",
   "metadata": {},
   "source": [
    "## Step 1: Obtain"
   ]
  },
  {
   "cell_type": "code",
   "execution_count": null,
   "metadata": {},
   "outputs": [],
   "source": []
  }
 ],
 "metadata": {
  "kernelspec": {
   "display_name": "learn-env",
   "language": "python",
   "name": "learn-env"
  },
  "language_info": {
   "codemirror_mode": {
    "name": "ipython",
    "version": 3
   },
   "file_extension": ".py",
   "mimetype": "text/x-python",
   "name": "python",
   "nbconvert_exporter": "python",
   "pygments_lexer": "ipython3",
   "version": "3.6.6"
  }
 },
 "nbformat": 4,
 "nbformat_minor": 2
}
